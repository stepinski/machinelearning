{
 "cells": [
  {
   "cell_type": "code",
   "execution_count": 15,
   "metadata": {},
   "outputs": [
    {
     "name": "stderr",
     "output_type": "stream",
     "text": [
      "2019-08-01 16:30:01,793 INFO Sending request to https://cds.climate.copernicus.eu/api/v2/resources/satellite-soil-moisture\n",
      "2019-08-01 16:30:02,839 INFO Request is queued\n",
      "2019-08-01 16:30:03,901 INFO Request is running\n",
      "2019-08-01 16:30:11,210 INFO Request is completed\n",
      "2019-08-01 16:30:11,212 INFO Downloading http://136.156.132.110/cache-compute-0001/cache/downloads/datastore.copernicus-climate.eu/312a_Lot7_soil-moisture/service/soil_moisture/TCDR/v201812/combined/2018/C3S-SOILMOISTURE-L3S-SSMV-COMBINED-DAILY-20180101000000-TCDR-v201812.0.0.nc to download.zip (1.1M)\n",
      "2019-08-01 16:30:11,708 INFO Download rate 2.3M/s\n"
     ]
    },
    {
     "data": {
      "text/plain": [
       "Result(content_length=1188221,content_type=application/x-netcdf,location=http://136.156.132.110/cache-compute-0001/cache/downloads/datastore.copernicus-climate.eu/312a_Lot7_soil-moisture/service/soil_moisture/TCDR/v201812/combined/2018/C3S-SOILMOISTURE-L3S-SSMV-COMBINED-DAILY-20180101000000-TCDR-v201812.0.0.nc)"
      ]
     },
     "execution_count": 15,
     "metadata": {},
     "output_type": "execute_result"
    }
   ],
   "source": [
    "import cdsapi\n",
    "\n",
    "c = cdsapi.Client()\n",
    "\n",
    "c.retrieve(\n",
    "    'satellite-soil-moisture',\n",
    "    {\n",
    "        'format':'zip',\n",
    "        'variable':'volumetric_surface_soil_moisture',\n",
    "        'type_of_sensor':'combined_passive_and_active',\n",
    "        'time_aggregation':'day_average',\n",
    "        'year':'2018',\n",
    "        'month':'01',\n",
    "        'day':'01',\n",
    "        'type_of_record':'cdr',\n",
    "        'version':'v201812.0.0'\n",
    "    },\n",
    "    'download.zip')"
   ]
  },
  {
   "cell_type": "code",
   "execution_count": null,
   "metadata": {},
   "outputs": [],
   "source": []
  },
  {
   "cell_type": "code",
   "execution_count": null,
   "metadata": {},
   "outputs": [],
   "source": []
  }
 ],
 "metadata": {
  "kernelspec": {
   "display_name": "Python 3",
   "language": "python",
   "name": "python3"
  },
  "language_info": {
   "codemirror_mode": {
    "name": "ipython",
    "version": 3
   },
   "file_extension": ".py",
   "mimetype": "text/x-python",
   "name": "python",
   "nbconvert_exporter": "python",
   "pygments_lexer": "ipython3",
   "version": "3.7.1"
  }
 },
 "nbformat": 4,
 "nbformat_minor": 2
}
