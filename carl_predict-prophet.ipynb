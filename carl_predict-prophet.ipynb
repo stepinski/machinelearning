{
  "nbformat": 4,
  "nbformat_minor": 0,
  "metadata": {
    "colab": {
      "name": "carl-predict.ipynb",
      "provenance": [],
      "include_colab_link": true
    },
    "kernelspec": {
      "name": "python3",
      "display_name": "Python 3"
    }
  },
  "cells": [
    {
      "cell_type": "markdown",
      "metadata": {
        "id": "view-in-github",
        "colab_type": "text"
      },
      "source": [
        "<a href=\"https://colab.research.google.com/github/stepinski/machinelearning/blob/master/carl_predict-prophet.ipynb\" target=\"_parent\"><img src=\"https://colab.research.google.com/assets/colab-badge.svg\" alt=\"Open In Colab\"/></a>"
      ]
    },
    {
      "cell_type": "code",
      "metadata": {
        "id": "vQjukXrhtXB7",
        "colab_type": "code",
        "colab": {}
      },
      "source": [
        "import pandas as pd\n",
        "url='https://gist.githubusercontent.com/stepinski/9c916890bd8ca9f9ca21451ec569f3f4/raw/ce27168b083809645965bc50184c8b897763869a/carl-hist'\n",
        "dfl=pd.read_csv(url)"
      ],
      "execution_count": 0,
      "outputs": []
    },
    {
      "cell_type": "code",
      "metadata": {
        "id": "xeNZ4BDjuT93",
        "colab_type": "code",
        "colab": {}
      },
      "source": [
        "dfl['datetime'] = pd.to_datetime(dfl['Date'])"
      ],
      "execution_count": 0,
      "outputs": []
    },
    {
      "cell_type": "code",
      "metadata": {
        "id": "GPs_Dn8UwPT-",
        "colab_type": "code",
        "colab": {
          "base_uri": "https://localhost:8080/",
          "height": 235
        },
        "outputId": "7ed91438-30ab-4ec9-8f2e-bc8c0587b583"
      },
      "source": [
        "df=dfl.set_index('datetime')\n",
        "df.drop(['Date'], axis=1, inplace=True)\n",
        "df.sort_values('datetime').head()"
      ],
      "execution_count": 139,
      "outputs": [
        {
          "output_type": "execute_result",
          "data": {
            "text/html": [
              "<div>\n",
              "<style scoped>\n",
              "    .dataframe tbody tr th:only-of-type {\n",
              "        vertical-align: middle;\n",
              "    }\n",
              "\n",
              "    .dataframe tbody tr th {\n",
              "        vertical-align: top;\n",
              "    }\n",
              "\n",
              "    .dataframe thead th {\n",
              "        text-align: right;\n",
              "    }\n",
              "</style>\n",
              "<table border=\"1\" class=\"dataframe\">\n",
              "  <thead>\n",
              "    <tr style=\"text-align: right;\">\n",
              "      <th></th>\n",
              "      <th>Price</th>\n",
              "      <th>Open</th>\n",
              "      <th>High</th>\n",
              "      <th>Low</th>\n",
              "      <th>Vol.</th>\n",
              "      <th>Change %</th>\n",
              "    </tr>\n",
              "    <tr>\n",
              "      <th>datetime</th>\n",
              "      <th></th>\n",
              "      <th></th>\n",
              "      <th></th>\n",
              "      <th></th>\n",
              "      <th></th>\n",
              "      <th></th>\n",
              "    </tr>\n",
              "  </thead>\n",
              "  <tbody>\n",
              "    <tr>\n",
              "      <th>2015-09-02</th>\n",
              "      <td>0.300</td>\n",
              "      <td>0.300</td>\n",
              "      <td>0.300</td>\n",
              "      <td>0.300</td>\n",
              "      <td>5.00K</td>\n",
              "      <td>-21.05%</td>\n",
              "    </tr>\n",
              "    <tr>\n",
              "      <th>2015-09-09</th>\n",
              "      <td>0.315</td>\n",
              "      <td>0.315</td>\n",
              "      <td>0.315</td>\n",
              "      <td>0.315</td>\n",
              "      <td>3.00K</td>\n",
              "      <td>5.00%</td>\n",
              "    </tr>\n",
              "    <tr>\n",
              "      <th>2015-09-16</th>\n",
              "      <td>0.285</td>\n",
              "      <td>0.285</td>\n",
              "      <td>0.285</td>\n",
              "      <td>0.285</td>\n",
              "      <td>25.00K</td>\n",
              "      <td>-9.52%</td>\n",
              "    </tr>\n",
              "    <tr>\n",
              "      <th>2015-09-24</th>\n",
              "      <td>0.300</td>\n",
              "      <td>0.300</td>\n",
              "      <td>0.300</td>\n",
              "      <td>0.300</td>\n",
              "      <td>3.00K</td>\n",
              "      <td>5.26%</td>\n",
              "    </tr>\n",
              "    <tr>\n",
              "      <th>2015-09-25</th>\n",
              "      <td>0.300</td>\n",
              "      <td>0.300</td>\n",
              "      <td>0.300</td>\n",
              "      <td>0.300</td>\n",
              "      <td>4.50K</td>\n",
              "      <td>0.00%</td>\n",
              "    </tr>\n",
              "  </tbody>\n",
              "</table>\n",
              "</div>"
            ],
            "text/plain": [
              "            Price   Open   High    Low    Vol. Change %\n",
              "datetime                                               \n",
              "2015-09-02  0.300  0.300  0.300  0.300   5.00K  -21.05%\n",
              "2015-09-09  0.315  0.315  0.315  0.315   3.00K    5.00%\n",
              "2015-09-16  0.285  0.285  0.285  0.285  25.00K   -9.52%\n",
              "2015-09-24  0.300  0.300  0.300  0.300   3.00K    5.26%\n",
              "2015-09-25  0.300  0.300  0.300  0.300   4.50K    0.00%"
            ]
          },
          "metadata": {
            "tags": []
          },
          "execution_count": 139
        }
      ]
    },
    {
      "cell_type": "code",
      "metadata": {
        "id": "WAtf1V0rwm0C",
        "colab_type": "code",
        "colab": {}
      },
      "source": [
        "dfl = df.sort_values('datetime')"
      ],
      "execution_count": 0,
      "outputs": []
    },
    {
      "cell_type": "code",
      "metadata": {
        "id": "-fjB1tc4us_V",
        "colab_type": "code",
        "colab": {
          "base_uri": "https://localhost:8080/",
          "height": 295
        },
        "outputId": "e561a97a-13d1-497b-a237-efcc23816bfe"
      },
      "source": [
        "from matplotlib import pyplot as plt\n",
        "plt.figure()\n",
        "plt.plot(dfl[\"Open\"])\n",
        "plt.plot(dfl[\"High\"])\n",
        "plt.plot(dfl[\"Low\"])\n",
        "plt.plot(dfl[\"Price\"])\n",
        "plt.title('GE stock price history')\n",
        "plt.ylabel('Price (CAD)')\n",
        "plt.xlabel('Days')\n",
        "plt.legend(['Open','High','Low','Close'], loc='upper left')\n",
        "plt.show()"
      ],
      "execution_count": 141,
      "outputs": [
        {
          "output_type": "display_data",
          "data": {
            "image/png": "[encoded data removed]",
            "text/plain": [
              "<Figure size 432x288 with 1 Axes>"
            ]
          },
          "metadata": {
            "tags": []
          }
        }
      ]
    },
    {
      "cell_type": "code",
      "metadata": {
        "id": "GlfOKWjQww0Q",
        "colab_type": "code",
        "colab": {
          "base_uri": "https://localhost:8080/",
          "height": 295
        },
        "outputId": "f5ab590a-d902-40ab-a5f3-e9d7eddfa504"
      },
      "source": [
        "plt.figure()\n",
        "plt.plot(dfl[\"Vol.\"])\n",
        "plt.title('GE stock volume history')\n",
        "plt.ylabel('Volume')\n",
        "plt.xlabel('Days')\n",
        "plt.show()"
      ],
      "execution_count": 142,
      "outputs": [
        {
          "output_type": "display_data",
          "data": {
            "image/png": "[encoded data removed]",
            "text/plain": [
              "<Figure size 432x288 with 1 Axes>"
            ]
          },
          "metadata": {
            "tags": []
          }
        }
      ]
    },
    {
      "cell_type": "code",
      "metadata": {
        "id": "dsBDMzl6xCYc",
        "colab_type": "code",
        "colab": {
          "base_uri": "https://localhost:8080/",
          "height": 153
        },
        "outputId": "80e8a41a-f7ca-4fdb-96cd-7ff819e1f194"
      },
      "source": [
        "print(\"checking if any null values are present\\n\",dfl.isna().sum())"
      ],
      "execution_count": 143,
      "outputs": [
        {
          "output_type": "stream",
          "text": [
            "checking if any null values are present\n",
            " Price       0\n",
            "Open        0\n",
            "High        0\n",
            "Low         0\n",
            "Vol.        0\n",
            "Change %    0\n",
            "dtype: int64\n"
          ],
          "name": "stdout"
        }
      ]
    },
    {
      "cell_type": "code",
      "metadata": {
        "id": "TYg1u42gxPw6",
        "colab_type": "code",
        "colab": {}
      },
      "source": [
        "import numpy as np\n",
        "from tqdm._tqdm_notebook import tqdm_notebook\n",
        "\n",
        "def build_timeseries(mat, y_col_index):\n",
        "    \"\"\"\n",
        "    Converts ndarray into timeseries format and supervised data format. Takes first TIME_STEPS\n",
        "    number of rows as input and sets the TIME_STEPS+1th data as corresponding output and so on.\n",
        "    :param mat: ndarray which holds the dataset\n",
        "    :param y_col_index: index of column which acts as output\n",
        "    :return: returns two ndarrays-- input and output in format suitable to feed\n",
        "    to LSTM.\n",
        "    \"\"\"\n",
        "    TIME_STEPS=10\n",
        "    # total number of time-series samples would be len(mat) - TIME_STEPS\n",
        "    dim_0 = mat.shape[0] - TIME_STEPS\n",
        "    dim_1 = mat.shape[1]\n",
        "    x = np.zeros((dim_0, TIME_STEPS, dim_1))\n",
        "    y = np.zeros((dim_0,))\n",
        "    print(\"dim_0\",dim_0)\n",
        "    for i in tqdm_notebook(range(dim_0)):\n",
        "        x[i] = mat[i:TIME_STEPS+i]\n",
        "        y[i] = mat[TIME_STEPS+i, y_col_index]\n",
        "#         if i < 10:\n",
        "#           print(i,\"-->\", x[i,-1,:], y[i])\n",
        "    print(\"length of time-series i/o\",x.shape,y.shape)\n",
        "    return x, y"
      ],
      "execution_count": 0,
      "outputs": []
    },
    {
      "cell_type": "code",
      "metadata": {
        "id": "7GLwAUJ4y7pt",
        "colab_type": "code",
        "colab": {}
      },
      "source": [
        "dfl['Vol.'] = dfl['Vol.'].str.replace('K','')\n",
        "dfl['Vol.'] = dfl['Vol.'].str.replace('M','')\n",
        "dfl['Vol.'] = dfl['Vol.'].str.replace('-','0')\n",
        "dfl['Change %'] = dfl['Change %'].str.replace('%','')"
      ],
      "execution_count": 0,
      "outputs": []
    },
    {
      "cell_type": "code",
      "metadata": {
        "id": "NmhYCtpSyFfL",
        "colab_type": "code",
        "colab": {
          "base_uri": "https://localhost:8080/",
          "height": 68
        },
        "outputId": "5c2311cd-2ded-4d9a-890a-b77689c1ecab"
      },
      "source": [
        "x_t, y_t = build_timeseries(dfl.loc['2018-11-01':'2019-10-01'].values,1)"
      ],
      "execution_count": 146,
      "outputs": [
        {
          "output_type": "stream",
          "text": [
            "dim_0 204\n"
          ],
          "name": "stdout"
        },
        {
          "output_type": "display_data",
          "data": {
            "application/vnd.jupyter.widget-view+json": {
              "model_id": "687b3d8e06b94591883fd95ea46751cf",
              "version_minor": 0,
              "version_major": 2
            },
            "text/plain": [
              "HBox(children=(IntProgress(value=0, max=204), HTML(value='')))"
            ]
          },
          "metadata": {
            "tags": []
          }
        },
        {
          "output_type": "stream",
          "text": [
            "\n",
            "length of time-series i/o (204, 10, 6) (204,)\n"
          ],
          "name": "stdout"
        }
      ]
    },
    {
      "cell_type": "code",
      "metadata": {
        "id": "T3bKPCa02q2i",
        "colab_type": "code",
        "colab": {}
      },
      "source": [
        "def trim_dataset(mat,batch_size):\n",
        "    \"\"\"\n",
        "    trims dataset to a size that's divisible by BATCH_SIZE\n",
        "    \"\"\"\n",
        "    no_of_rows_drop = mat.shape[0]%batch_size\n",
        "    if no_of_rows_drop > 0:\n",
        "        return mat[:-no_of_rows_drop]\n",
        "    else:\n",
        "        return mat\n",
        "\n",
        "BATCH_SIZE=10"
      ],
      "execution_count": 0,
      "outputs": []
    },
    {
      "cell_type": "code",
      "metadata": {
        "id": "apubKucj2-sx",
        "colab_type": "code",
        "colab": {
          "base_uri": "https://localhost:8080/",
          "height": 197
        },
        "outputId": "2a2b9d0c-c37a-45a2-c330-4d5e0c00ec36"
      },
      "source": [
        "from sklearn.model_selection import train_test_split\n",
        "train_cols = [\"Price\",\"Open\",\t\"High\",\t\"Low\",\t\"Vol.\",'Change %'\t]\n",
        "df_train, df_test = train_test_split(dfl, train_size=0.9, test_size=0.1, shuffle=False)"
      ],
      "execution_count": 1,
      "outputs": [
        {
          "output_type": "error",
          "ename": "NameError",
          "evalue": "ignored",
          "traceback": [
            "\u001b[0;31m---------------------------------------------------------------------------\u001b[0m",
            "\u001b[0;31mNameError\u001b[0m                                 Traceback (most recent call last)",
            "\u001b[0;32m<ipython-input-1-5e1a30016f1d>\u001b[0m in \u001b[0;36m<module>\u001b[0;34m()\u001b[0m\n\u001b[1;32m      1\u001b[0m \u001b[0;32mfrom\u001b[0m \u001b[0msklearn\u001b[0m\u001b[0;34m.\u001b[0m\u001b[0mmodel_selection\u001b[0m \u001b[0;32mimport\u001b[0m \u001b[0mtrain_test_split\u001b[0m\u001b[0;34m\u001b[0m\u001b[0;34m\u001b[0m\u001b[0m\n\u001b[1;32m      2\u001b[0m \u001b[0mtrain_cols\u001b[0m \u001b[0;34m=\u001b[0m \u001b[0;34m[\u001b[0m\u001b[0;34m\"Price\"\u001b[0m\u001b[0;34m,\u001b[0m\u001b[0;34m\"Open\"\u001b[0m\u001b[0;34m,\u001b[0m   \u001b[0;34m\"High\"\u001b[0m\u001b[0;34m,\u001b[0m \u001b[0;34m\"Low\"\u001b[0m\u001b[0;34m,\u001b[0m  \u001b[0;34m\"Vol.\"\u001b[0m\u001b[0;34m,\u001b[0m\u001b[0;34m'Change %'\u001b[0m       \u001b[0;34m]\u001b[0m\u001b[0;34m\u001b[0m\u001b[0;34m\u001b[0m\u001b[0m\n\u001b[0;32m----> 3\u001b[0;31m \u001b[0mdf_train\u001b[0m\u001b[0;34m,\u001b[0m \u001b[0mdf_test\u001b[0m \u001b[0;34m=\u001b[0m \u001b[0mtrain_test_split\u001b[0m\u001b[0;34m(\u001b[0m\u001b[0mdfl\u001b[0m\u001b[0;34m,\u001b[0m \u001b[0mtrain_size\u001b[0m\u001b[0;34m=\u001b[0m\u001b[0;36m0.9\u001b[0m\u001b[0;34m,\u001b[0m \u001b[0mtest_size\u001b[0m\u001b[0;34m=\u001b[0m\u001b[0;36m0.1\u001b[0m\u001b[0;34m,\u001b[0m \u001b[0mshuffle\u001b[0m\u001b[0;34m=\u001b[0m\u001b[0;32mFalse\u001b[0m\u001b[0;34m)\u001b[0m\u001b[0;34m\u001b[0m\u001b[0;34m\u001b[0m\u001b[0m\n\u001b[0m",
            "\u001b[0;31mNameError\u001b[0m: name 'dfl' is not defined"
          ]
        }
      ]
    },
    {
      "cell_type": "code",
      "metadata": {
        "id": "1Y8Z-rc-26Sm",
        "colab_type": "code",
        "colab": {}
      },
      "source": [
        "from sklearn.preprocessing import MinMaxScaler\n",
        "x = df_train.loc[:,train_cols].values\n",
        "min_max_scaler = MinMaxScaler()\n",
        "x_train = min_max_scaler.fit_transform(x)\n",
        "x_test = min_max_scaler.transform(df_test.loc[:,train_cols])"
      ],
      "execution_count": 0,
      "outputs": []
    },
    {
      "cell_type": "code",
      "metadata": {
        "id": "RPUyQ5TK2jTP",
        "colab_type": "code",
        "colab": {
          "base_uri": "https://localhost:8080/",
          "height": 68
        },
        "outputId": "bbb58274-078e-46c9-82f5-233d9259dd3c"
      },
      "source": [
        "x_t = trim_dataset(x_t, BATCH_SIZE)\n",
        "y_t = trim_dataset(y_t, BATCH_SIZE)\n",
        "x_temp, y_temp = build_timeseries(x_test, 3)\n",
        "x_val, x_test_t = np.split(trim_dataset(x_temp, BATCH_SIZE),2)\n",
        "y_val, y_test_t = np.split(trim_dataset(y_temp, BATCH_SIZE),2)"
      ],
      "execution_count": 150,
      "outputs": [
        {
          "output_type": "stream",
          "text": [
            "dim_0 79\n"
          ],
          "name": "stdout"
        },
        {
          "output_type": "display_data",
          "data": {
            "application/vnd.jupyter.widget-view+json": {
              "model_id": "cb2a5086374141e69e7ae7c0e9c713a3",
              "version_minor": 0,
              "version_major": 2
            },
            "text/plain": [
              "HBox(children=(IntProgress(value=0, max=79), HTML(value='')))"
            ]
          },
          "metadata": {
            "tags": []
          }
        },
        {
          "output_type": "stream",
          "text": [
            "\n",
            "length of time-series i/o (79, 10, 5) (79,)\n"
          ],
          "name": "stdout"
        }
      ]
    },
    {
      "cell_type": "code",
      "metadata": {
        "id": "n4aggHdO3m18",
        "colab_type": "code",
        "colab": {
          "base_uri": "https://localhost:8080/",
          "height": 34
        },
        "outputId": "9c2e9617-4331-4766-ada5-afab0ce1bfee"
      },
      "source": [
        "import pickle\n",
        "from keras.models import Sequential, load_model\n",
        "from keras.layers import Dense, Dropout\n",
        "from keras.layers import LSTM\n",
        "from keras.callbacks import ModelCheckpoint, EarlyStopping, ReduceLROnPlateau, CSVLogger\n",
        "from keras import optimizers\n",
        "# from keras.wrappers.scikit_learn import KerasClassifier\n",
        "from sklearn.preprocessing import MinMaxScaler\n",
        "from sklearn.model_selection import train_test_split\n",
        "from sklearn.metrics import mean_squared_error\n",
        "import logging\n",
        "def create_model():\n",
        "    lstm_model = Sequential()\n",
        "    # (batch_size, timesteps, data_dim)\n",
        "    lstm_model.add(LSTM(100, batch_input_shape=(BATCH_SIZE, TIME_STEPS, x_t.shape[2]),\n",
        "                        dropout=0.0, recurrent_dropout=0.0, stateful=True, return_sequences=True,\n",
        "                        kernel_initializer='random_uniform'))\n",
        "    lstm_model.add(Dropout(0.4))\n",
        "    lstm_model.add(LSTM(60, dropout=0.0))\n",
        "    lstm_model.add(Dropout(0.4))\n",
        "    lstm_model.add(Dense(20,activation='relu'))\n",
        "    lstm_model.add(Dense(1,activation='sigmoid'))\n",
        "    optimizer = optimizers.RMSprop(lr=params[\"lr\"])\n",
        "    # optimizer = optimizers.SGD(lr=0.000001, decay=1e-6, momentum=0.9, nesterov=True)\n",
        "    lstm_model.compile(loss='mean_squared_error', optimizer=optimizer)\n",
        "    return lstm_model\n",
        "\n",
        "\n",
        "model = None\n",
        "try:\n",
        "    model = pickle.load(open(\"lstm_model\", 'rb'))\n",
        "    print(\"Loaded saved model...\")\n",
        "except FileNotFoundError:\n",
        "    print(\"Model not found\")\n"
      ],
      "execution_count": 151,
      "outputs": [
        {
          "output_type": "stream",
          "text": [
            "Loaded saved model...\n"
          ],
          "name": "stdout"
        }
      ]
    },
    {
      "cell_type": "code",
      "metadata": {
        "id": "y9PDbqrS4NDv",
        "colab_type": "code",
        "colab": {
          "base_uri": "https://localhost:8080/",
          "height": 408
        },
        "outputId": "67e82349-b578-4ee8-9f21-a13f06422a2c"
      },
      "source": [
        "import os\n",
        "import sys\n",
        "import time\n",
        "import logging\n",
        "logging.getLogger(\"tensorflow\").setLevel(logging.ERROR)\n",
        "params = {\n",
        "    \"batch_size\": 10,  # 20<16<10, 25 was a bust\n",
        "    \"epochs\": 300,\n",
        "    \"lr\": 0.000010000,\n",
        "    \"time_steps\": 10\n",
        "}\n",
        "iter_changes = \"testing\"\n",
        "OUTPUT_PATH = \"/out/lstm_best_7-3-19_12AM/\"+iter_changes\n",
        "if not os.path.exists(OUTPUT_PATH):\n",
        "    os.makedirs(OUTPUT_PATH)\n",
        "    print(\"Directory created\", OUTPUT_PATH)\n",
        "#else:\n",
        " #   raise Exception(\"Directory already exists. Don't override.\")\n",
        "TIME_STEPS=10\n",
        "is_update_model = True\n",
        "if model is None or is_update_model:\n",
        "    from keras import backend as K\n",
        "    print(\"Building model...\")\n",
        "    print(\"checking if GPU available\", K.tensorflow_backend._get_available_gpus())\n",
        "    model = create_model()\n",
        "    \n",
        "    es = EarlyStopping(monitor='val_loss', mode='min', verbose=1,\n",
        "                       patience=40, min_delta=0.0001)\n",
        "    \n",
        "    mcp = ModelCheckpoint(os.path.join(OUTPUT_PATH,\n",
        "                          \"best_model.h5\"), monitor='val_loss', verbose=1,\n",
        "                          save_best_only=True, save_weights_only=False, mode='min', period=1)\n",
        "\n",
        "    # Not used here. But leaving it here as a reminder for future\n",
        "    r_lr_plat = ReduceLROnPlateau(monitor='val_loss', factor=0.1, patience=30, \n",
        "                                  verbose=0, mode='auto', min_delta=0.0001, cooldown=0, min_lr=0)\n",
        "    \n",
        "    csv_logger = CSVLogger(os.path.join(OUTPUT_PATH, 'training_log_' + time.ctime().replace(\" \",\"_\") + '.log'), append=True)\n",
        "    \n",
        "    history = model.fit(x_t, y_t, epochs=params[\"epochs\"], verbose=2, batch_size=BATCH_SIZE,\n",
        "                        shuffle=False, validation_data=(trim_dataset(x_val, BATCH_SIZE),\n",
        "                        trim_dataset(y_val, BATCH_SIZE)), callbacks=[es, mcp, csv_logger])\n",
        "    \n",
        "    print(\"saving model...\")\n",
        "    pickle.dump(model, open(\"lstm_model\", \"wb\"))"
      ],
      "execution_count": 152,
      "outputs": [
        {
          "output_type": "stream",
          "text": [
            "Building model...\n",
            "checking if GPU available []\n"
          ],
          "name": "stdout"
        },
        {
          "output_type": "error",
          "ename": "ValueError",
          "evalue": "ignored",
          "traceback": [
            "\u001b[0;31m---------------------------------------------------------------------------\u001b[0m",
            "\u001b[0;31mValueError\u001b[0m                                Traceback (most recent call last)",
            "\u001b[0;32m<ipython-input-152-a27ce5ceecb8>\u001b[0m in \u001b[0;36m<module>\u001b[0;34m()\u001b[0m\n\u001b[1;32m     40\u001b[0m     history = model.fit(x_t, y_t, epochs=params[\"epochs\"], verbose=2, batch_size=BATCH_SIZE,\n\u001b[1;32m     41\u001b[0m                         shuffle=False, validation_data=(trim_dataset(x_val, BATCH_SIZE),\n\u001b[0;32m---> 42\u001b[0;31m                         trim_dataset(y_val, BATCH_SIZE)), callbacks=[es, mcp, csv_logger])\n\u001b[0m\u001b[1;32m     43\u001b[0m \u001b[0;34m\u001b[0m\u001b[0m\n\u001b[1;32m     44\u001b[0m     \u001b[0mprint\u001b[0m\u001b[0;34m(\u001b[0m\u001b[0;34m\"saving model...\"\u001b[0m\u001b[0;34m)\u001b[0m\u001b[0;34m\u001b[0m\u001b[0;34m\u001b[0m\u001b[0m\n",
            "\u001b[0;32m/usr/local/lib/python3.6/dist-packages/keras/engine/training.py\u001b[0m in \u001b[0;36mfit\u001b[0;34m(self, x, y, batch_size, epochs, verbose, callbacks, validation_split, validation_data, shuffle, class_weight, sample_weight, initial_epoch, steps_per_epoch, validation_steps, validation_freq, max_queue_size, workers, use_multiprocessing, **kwargs)\u001b[0m\n\u001b[1;32m   1108\u001b[0m                 \u001b[0mval_x\u001b[0m\u001b[0;34m,\u001b[0m \u001b[0mval_y\u001b[0m\u001b[0;34m,\u001b[0m\u001b[0;34m\u001b[0m\u001b[0;34m\u001b[0m\u001b[0m\n\u001b[1;32m   1109\u001b[0m                 \u001b[0msample_weight\u001b[0m\u001b[0;34m=\u001b[0m\u001b[0mval_sample_weight\u001b[0m\u001b[0;34m,\u001b[0m\u001b[0;34m\u001b[0m\u001b[0;34m\u001b[0m\u001b[0m\n\u001b[0;32m-> 1110\u001b[0;31m                 batch_size=batch_size)\n\u001b[0m\u001b[1;32m   1111\u001b[0m             \u001b[0;32mif\u001b[0m \u001b[0mself\u001b[0m\u001b[0;34m.\u001b[0m\u001b[0m_uses_dynamic_learning_phase\u001b[0m\u001b[0;34m(\u001b[0m\u001b[0;34m)\u001b[0m\u001b[0;34m:\u001b[0m\u001b[0;34m\u001b[0m\u001b[0;34m\u001b[0m\u001b[0m\n\u001b[1;32m   1112\u001b[0m                 \u001b[0mval_inputs\u001b[0m \u001b[0;34m=\u001b[0m \u001b[0mval_x\u001b[0m \u001b[0;34m+\u001b[0m \u001b[0mval_y\u001b[0m \u001b[0;34m+\u001b[0m \u001b[0mval_sample_weights\u001b[0m \u001b[0;34m+\u001b[0m \u001b[0;34m[\u001b[0m\u001b[0;36m0.\u001b[0m\u001b[0;34m]\u001b[0m\u001b[0;34m\u001b[0m\u001b[0;34m\u001b[0m\u001b[0m\n",
            "\u001b[0;32m/usr/local/lib/python3.6/dist-packages/keras/engine/training.py\u001b[0m in \u001b[0;36m_standardize_user_data\u001b[0;34m(self, x, y, sample_weight, class_weight, check_array_lengths, batch_size)\u001b[0m\n\u001b[1;32m    755\u001b[0m             \u001b[0mfeed_input_shapes\u001b[0m\u001b[0;34m,\u001b[0m\u001b[0;34m\u001b[0m\u001b[0;34m\u001b[0m\u001b[0m\n\u001b[1;32m    756\u001b[0m             \u001b[0mcheck_batch_axis\u001b[0m\u001b[0;34m=\u001b[0m\u001b[0;32mFalse\u001b[0m\u001b[0;34m,\u001b[0m  \u001b[0;31m# Don't enforce the batch size.\u001b[0m\u001b[0;34m\u001b[0m\u001b[0;34m\u001b[0m\u001b[0m\n\u001b[0;32m--> 757\u001b[0;31m             exception_prefix='input')\n\u001b[0m\u001b[1;32m    758\u001b[0m \u001b[0;34m\u001b[0m\u001b[0m\n\u001b[1;32m    759\u001b[0m         \u001b[0;32mif\u001b[0m \u001b[0my\u001b[0m \u001b[0;32mis\u001b[0m \u001b[0;32mnot\u001b[0m \u001b[0;32mNone\u001b[0m\u001b[0;34m:\u001b[0m\u001b[0;34m\u001b[0m\u001b[0;34m\u001b[0m\u001b[0m\n",
            "\u001b[0;32m/usr/local/lib/python3.6/dist-packages/keras/engine/training_utils.py\u001b[0m in \u001b[0;36mstandardize_input_data\u001b[0;34m(data, names, shapes, check_batch_axis, exception_prefix)\u001b[0m\n\u001b[1;32m    139\u001b[0m                             \u001b[0;34m': expected '\u001b[0m \u001b[0;34m+\u001b[0m \u001b[0mnames\u001b[0m\u001b[0;34m[\u001b[0m\u001b[0mi\u001b[0m\u001b[0;34m]\u001b[0m \u001b[0;34m+\u001b[0m \u001b[0;34m' to have shape '\u001b[0m \u001b[0;34m+\u001b[0m\u001b[0;34m\u001b[0m\u001b[0;34m\u001b[0m\u001b[0m\n\u001b[1;32m    140\u001b[0m                             \u001b[0mstr\u001b[0m\u001b[0;34m(\u001b[0m\u001b[0mshape\u001b[0m\u001b[0;34m)\u001b[0m \u001b[0;34m+\u001b[0m \u001b[0;34m' but got array with shape '\u001b[0m \u001b[0;34m+\u001b[0m\u001b[0;34m\u001b[0m\u001b[0;34m\u001b[0m\u001b[0m\n\u001b[0;32m--> 141\u001b[0;31m                             str(data_shape))\n\u001b[0m\u001b[1;32m    142\u001b[0m     \u001b[0;32mreturn\u001b[0m \u001b[0mdata\u001b[0m\u001b[0;34m\u001b[0m\u001b[0;34m\u001b[0m\u001b[0m\n\u001b[1;32m    143\u001b[0m \u001b[0;34m\u001b[0m\u001b[0m\n",
            "\u001b[0;31mValueError\u001b[0m: Error when checking input: expected lstm_31_input to have shape (10, 6) but got array with shape (10, 5)"
          ]
        }
      ]
    },
    {
      "cell_type": "code",
      "metadata": {
        "id": "tR0g1VVT5sVW",
        "colab_type": "code",
        "colab": {}
      },
      "source": [
        "# model.evaluate(x_test_t, y_test_t, batch_size=BATCH_SIZE\n",
        "y_pred = model.predict(trim_dataset(x_test_t, BATCH_SIZE), batch_size=BATCH_SIZE)\n",
        "y_pred = y_pred.flatten()\n",
        "y_test_t = trim_dataset(y_test_t, BATCH_SIZE)\n",
        "error = mean_squared_error(y_test_t, y_pred)\n",
        "print(\"Error is\", error, y_pred.shape, y_test_t.shape)\n",
        "print(y_pred[0:15])\n",
        "print(y_test_t[0:15])\n",
        "\n",
        "# convert the predicted value to range of real data\n",
        "y_pred_org = (y_pred * min_max_scaler.data_range_[3]) + min_max_scaler.data_min_[3]\n",
        "# min_max_scaler.inverse_transform(y_pred)\n",
        "y_test_t_org = (y_test_t * min_max_scaler.data_range_[3]) + min_max_scaler.data_min_[3]\n",
        "# min_max_scaler.inverse_transform(y_test_t)\n",
        "print(y_pred_org[0:15])\n",
        "print(y_test_t_org[0:15])\n",
        "\n",
        "# Visualize the training data\n",
        "from matplotlib import pyplot as plt\n",
        "plt.figure()\n",
        "plt.plot(history.history['loss'])\n",
        "plt.plot(history.history['val_loss'])\n",
        "plt.title('Model loss')\n",
        "plt.ylabel('Loss')\n",
        "plt.xlabel('Epoch')\n",
        "plt.legend(['Train', 'Test'], loc='upper left')\n",
        "#plt.show()\n",
        "plt.savefig(os.path.join(OUTPUT_PATH, 'train_vis_BS_'+str(BATCH_SIZE)+\"_\"+time.ctime()+'.png'))\n",
        "\n",
        "# load the saved best model from above\n",
        "saved_model = load_model(os.path.join(OUTPUT_PATH, 'best_model.h5')) # , \"lstm_best_7-3-19_12AM\",\n",
        "print(saved_model)\n",
        "\n",
        "y_pred = saved_model.predict(trim_dataset(x_test_t, BATCH_SIZE), batch_size=BATCH_SIZE)\n",
        "y_pred = y_pred.flatten()y\n",
        "y_test_t = trim_dataset(y_test_t, BATCH_SIZE)\n",
        "error = mean_squared_error(y_test_t, y_pred)\n",
        "print(\"Error is\", error, y_pred.shape, y_test_t.shape)\n",
        "print(y_pred[0:15])\n",
        "print(y_test_t[0:15])\n",
        "y_pred_org = (y_pred * min_max_scaler.data_range_[3]) + min_max_scaler.data_min_[3] # min_max_scaler.inverse_transform(y_pred)          \n",
        "y_test_t_org = (y_test_t * min_max_scaler.data_range_[3]) + min_max_scaler.data_min_[3] # min_max_scaler.inverse_transform(y_test_t)\n",
        "print(y_pred_org[0:15])\n",
        "print(y_test_t_org[0:15])\n",
        "\n",
        "# Visualize the prediction\n",
        "from matplotlib import pyplot as plt\n",
        "plt.figure()\n",
        "plt.plot(y_pred_org)\n",
        "plt.plot(y_test_t_org)\n",
        "plt.title('Prediction vs Real Stock Price')\n",
        "plt.ylabel('Price')\n",
        "plt.xlabel('Days')\n",
        "plt.legend(['Prediction', 'Real'], loc='upper left')\n",
        "#plt.show()\n",
        "plt.savefig(os.path.join(OUTPUT_PATH, 'pred_vs_real_BS'+str(BATCH_SIZE)+\"_\"+time.ctime()+'.png'))"
      ],
      "execution_count": 0,
      "outputs": []
    }
  ]
}