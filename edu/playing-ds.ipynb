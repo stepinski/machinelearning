{
 "cells": [
  {
   "cell_type": "markdown",
   "id": "462a6cfe",
   "metadata": {},
   "source": [
    "# Day 1: SQL and BigQuery Tasks"
   ]
  },
  {
   "cell_type": "markdown",
   "id": "c3cc5508",
   "metadata": {},
   "source": [
    "### Task 1: Calculate CTR (Click-Through Rate) for Multiple Campaigns"
   ]
  },
  {
   "cell_type": "code",
   "execution_count": null,
   "id": "ef1e4104",
   "metadata": {},
   "outputs": [],
   "source": [
    "\n",
    "# Instructions:\n",
    "# Use the following schema:\n",
    "# - Table: campaigns\n",
    "# - Columns: campaign_id, impressions, clicks\n",
    "\n",
    "# Write an SQL query to calculate CTR for each campaign.\n",
    "# CTR = (clicks / impressions) * 100\n"
   ]
  },
  {
   "cell_type": "markdown",
   "id": "3e17ac43",
   "metadata": {},
   "source": [
    "#### Answer (hidden)"
   ]
  },
  {
   "cell_type": "code",
   "execution_count": null,
   "id": "29c2771b",
   "metadata": {},
   "outputs": [],
   "source": [
    "\n",
    "# SELECT campaign_id, (clicks * 1.0 / impressions) * 100 AS CTR\n",
    "# FROM campaigns;\n"
   ]
  },
  {
   "cell_type": "markdown",
   "id": "677a1836",
   "metadata": {},
   "source": [
    "### Task 2: Optimize a Query to Retrieve Top Campaigns by Revenue"
   ]
  },
  {
   "cell_type": "code",
   "execution_count": null,
   "id": "1564ee3c",
   "metadata": {},
   "outputs": [],
   "source": [
    "\n",
    "# Instructions:\n",
    "# Use the following schema:\n",
    "# - Table: campaigns\n",
    "# - Columns: campaign_id, revenue\n",
    "\n",
    "# Write an optimized query to retrieve the top 5 campaigns by revenue.\n"
   ]
  },
  {
   "cell_type": "markdown",
   "id": "e8dc3f12",
   "metadata": {},
   "source": [
    "#### Answer (hidden)"
   ]
  },
  {
   "cell_type": "code",
   "execution_count": null,
   "id": "048d4597",
   "metadata": {},
   "outputs": [],
   "source": [
    "\n",
    "# SELECT campaign_id, revenue\n",
    "# FROM campaigns\n",
    "# ORDER BY revenue DESC\n",
    "# LIMIT 5;\n"
   ]
  },
  {
   "cell_type": "markdown",
   "id": "b028b47d",
   "metadata": {},
   "source": [
    "### Task 3: BigQuery Table Joins"
   ]
  },
  {
   "cell_type": "code",
   "execution_count": null,
   "id": "fdf72d99",
   "metadata": {},
   "outputs": [],
   "source": [
    "\n",
    "# Instructions:\n",
    "# Use two tables:\n",
    "# - campaigns (campaign_id, impressions, clicks)\n",
    "# - revenue (campaign_id, total_revenue)\n",
    "\n",
    "# Write a query to join these tables and calculate revenue per click for each campaign.\n"
   ]
  },
  {
   "cell_type": "markdown",
   "id": "ded76dd8",
   "metadata": {},
   "source": [
    "#### Answer (hidden)"
   ]
  },
  {
   "cell_type": "code",
   "execution_count": null,
   "id": "8c25b450",
   "metadata": {},
   "outputs": [],
   "source": [
    "\n",
    "# SELECT c.campaign_id, total_revenue / clicks AS revenue_per_click\n",
    "# FROM campaigns AS c\n",
    "# JOIN revenue AS r\n",
    "# ON c.campaign_id = r.campaign_id;\n"
   ]
  },
  {
   "cell_type": "markdown",
   "id": "600c6453",
   "metadata": {},
   "source": [
    "# Day 2: Python for Data Processing Tasks"
   ]
  },
  {
   "cell_type": "markdown",
   "id": "c3845116",
   "metadata": {},
   "source": [
    "### Task 1: Load a Dataset and Handle Missing Values"
   ]
  },
  {
   "cell_type": "code",
   "execution_count": null,
   "id": "eb6bf9d6",
   "metadata": {},
   "outputs": [],
   "source": [
    "\n",
    "# Instructions:\n",
    "# Load the provided dataset (mock_dataset.csv).\n",
    "# Handle missing values by replacing them with the column mean.\n",
    "import pandas as pd\n",
    "\n",
    "# Load dataset\n",
    "df = pd.read_csv('mock_dataset.csv')\n",
    "df.head()\n"
   ]
  },
  {
   "cell_type": "markdown",
   "id": "fde6893e",
   "metadata": {},
   "source": [
    "#### Answer (hidden)"
   ]
  },
  {
   "cell_type": "code",
   "execution_count": null,
   "id": "b7e566b2",
   "metadata": {},
   "outputs": [],
   "source": [
    "\n",
    "# Handle missing values\n",
    "df.fillna(df.mean(), inplace=True)\n",
    "df.head()\n"
   ]
  },
  {
   "cell_type": "markdown",
   "id": "d886046a",
   "metadata": {},
   "source": [
    "### Task 2: Create a New Feature"
   ]
  },
  {
   "cell_type": "code",
   "execution_count": null,
   "id": "7479918a",
   "metadata": {},
   "outputs": [],
   "source": [
    "\n",
    "# Instructions:\n",
    "# Create a new feature \"CTR\" in the dataset.\n",
    "# CTR = (clicks / impressions) * 100\n",
    "\n",
    "df['CTR'] = (df['clicks'] / df['impressions']) * 100\n",
    "df.head()\n"
   ]
  }
 ],
 "metadata": {},
 "nbformat": 4,
 "nbformat_minor": 5
}